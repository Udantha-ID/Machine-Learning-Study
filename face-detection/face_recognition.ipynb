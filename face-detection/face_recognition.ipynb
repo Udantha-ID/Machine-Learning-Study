{
 "cells": [
  {
   "cell_type": "code",
   "execution_count": 8,
   "id": "0b62293c-f8cd-4637-ba3e-92f49a151156",
   "metadata": {},
   "outputs": [
    {
     "name": "stdout",
     "output_type": "stream",
     "text": [
      "['Barack Obama', 'Donald Trump', 'George W Bush']\n",
      "{'Barack Obama': 0, 'Donald Trump': 1, 'George W Bush': 2}\n"
     ]
    }
   ],
   "source": [
    "import os\n",
    "import numpy as np\n",
    "\n",
    "#Load images one by one\n",
    "#convert to gray scale\n",
    "#Face detection -face crop\n",
    "#50*50 resize\n",
    "#Flatten 2500\n",
    "#Dataset append\n",
    "\n",
    "data_path = 'train_data_2'\n",
    "labels = os.listdir(data_path)\n",
    "print(labels)\n",
    "category=np.arange(len(labels))\n",
    "categores_dict=dict(zip(labels, category))\n",
    "print(categores_dict)"
   ]
  },
  {
   "cell_type": "code",
   "execution_count": 9,
   "id": "6c878234-efdf-4734-9363-1541b219fb69",
   "metadata": {},
   "outputs": [],
   "source": [
    "import cv2\n",
    "face_classifier=cv2.CascadeClassifier('haarcascade_frontalface_default.xml')\n",
    "\n",
    "data=[]\n",
    "target=[]\n",
    "\n",
    "for label in labels:\n",
    "    \n",
    "    imgs_path=os.path.join(data_path,label)\n",
    "    img_names=os.listdir(imgs_path)\n",
    "    \n",
    "    for img_name in img_names:\n",
    "        \n",
    "        img_path=os.path.join(imgs_path,img_name)\n",
    "        img=cv2.imread(img_path)\n",
    "    \n",
    "        gray=cv2.cvtColor(img,cv2.COLOR_BGR2GRAY)\n",
    "        faces=face_classifier.detectMultiScale(gray)\n",
    "        \n",
    "        try:\n",
    "        \n",
    "            for (x,y,w,h) in faces:\n",
    "\n",
    "                cropped_face=gray[y:y+h,x:x+w]\n",
    "                cv2.imshow('cropped_face',cropped_face)\n",
    "\n",
    "                k=cv2.waitKey(0)\n",
    "\n",
    "                if(k==121):\n",
    "                    cropped_face=cv2.resize(cropped_face,(50,50))\n",
    "                    data.append(cropped_face)\n",
    "                    target.append(category_dict[label])\n",
    "\n",
    "                else:\n",
    "\n",
    "                    pass       \n",
    "        except:\n",
    "           \n",
    "            pass"
   ]
  },
  {
   "cell_type": "code",
   "execution_count": 5,
   "id": "57e3eb0c-e892-4942-8782-a8506cef0c8a",
   "metadata": {},
   "outputs": [
    {
     "ename": "IndexError",
     "evalue": "tuple index out of range",
     "output_type": "error",
     "traceback": [
      "\u001b[1;31m---------------------------------------------------------------------------\u001b[0m",
      "\u001b[1;31mIndexError\u001b[0m                                Traceback (most recent call last)",
      "Cell \u001b[1;32mIn[5], line 4\u001b[0m\n\u001b[0;32m      1\u001b[0m data\u001b[38;5;241m=\u001b[39mnp\u001b[38;5;241m.\u001b[39marray(data)\n\u001b[0;32m      2\u001b[0m target\u001b[38;5;241m=\u001b[39mnp\u001b[38;5;241m.\u001b[39marray(target)\n\u001b[1;32m----> 4\u001b[0m datas\u001b[38;5;241m=\u001b[39mdata\u001b[38;5;241m.\u001b[39mreshape(data\u001b[38;5;241m.\u001b[39mshape[\u001b[38;5;241m0\u001b[39m],data\u001b[38;5;241m.\u001b[39mshape[\u001b[38;5;241m1\u001b[39m]\u001b[38;5;241m*\u001b[39mdata\u001b[38;5;241m.\u001b[39mshape[\u001b[38;5;241m2\u001b[39m])\n\u001b[0;32m      6\u001b[0m \u001b[38;5;28mprint\u001b[39m(data\u001b[38;5;241m.\u001b[39mshape)\n\u001b[0;32m      7\u001b[0m \u001b[38;5;28mprint\u001b[39m(target\u001b[38;5;241m.\u001b[39mshape)\n",
      "\u001b[1;31mIndexError\u001b[0m: tuple index out of range"
     ]
    }
   ],
   "source": [
    "data=np.array(data)\n",
    "target=np.array(target)\n",
    "\n",
    "data=data.reshape(data.shape[0],data.shape[1]*data.shape[2])\n",
    "\n",
    "print(data.shape)\n",
    "print(target.shape)"
   ]
  },
  {
   "cell_type": "code",
   "execution_count": null,
   "id": "5429d6e7-3b16-408f-8f11-51d4e73324d6",
   "metadata": {},
   "outputs": [],
   "source": []
  }
 ],
 "metadata": {
  "kernelspec": {
   "display_name": "Python [conda env:base] *",
   "language": "python",
   "name": "conda-base-py"
  },
  "language_info": {
   "codemirror_mode": {
    "name": "ipython",
    "version": 3
   },
   "file_extension": ".py",
   "mimetype": "text/x-python",
   "name": "python",
   "nbconvert_exporter": "python",
   "pygments_lexer": "ipython3",
   "version": "3.12.7"
  }
 },
 "nbformat": 4,
 "nbformat_minor": 5
}
