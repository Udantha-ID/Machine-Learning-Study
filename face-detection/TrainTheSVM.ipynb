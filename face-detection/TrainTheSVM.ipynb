{
 "cells": [
  {
   "cell_type": "code",
   "execution_count": 1,
   "id": "451ee1e6-be84-4d11-8972-3f96e0ee3a94",
   "metadata": {},
   "outputs": [],
   "source": [
    "import numpy as np\n",
    "\n",
    "data=np.load('data.npy')\n",
    "target=np.load('target.npy')"
   ]
  },
  {
   "cell_type": "code",
   "execution_count": 2,
   "id": "2b966343-8667-40f9-8cb4-279fde34a5d3",
   "metadata": {},
   "outputs": [
    {
     "name": "stdout",
     "output_type": "stream",
     "text": [
      "(0,)\n",
      "(0,)\n"
     ]
    }
   ],
   "source": [
    "print(data.shape)\n",
    "print(target.shape)"
   ]
  },
  {
   "cell_type": "code",
   "execution_count": 4,
   "id": "290eb814-858b-4f4f-a4eb-d672f1462de2",
   "metadata": {},
   "outputs": [
    {
     "name": "stdout",
     "output_type": "stream",
     "text": [
      "Counter()\n"
     ]
    }
   ],
   "source": [
    "import collections\n",
    "print(collections.Counter(data))"
   ]
  },
  {
   "cell_type": "code",
   "execution_count": null,
   "id": "09bf87cb-16f9-4e45-b392-55dc4ea41af5",
   "metadata": {},
   "outputs": [],
   "source": [
    "from sklearn.svm import SVC #importing the SVM\n",
    "from sklearn.decomposition import PCA #importing PCA\n",
    "from sklearn.pipeline import make_pipeline\n",
    "\n",
    "pca=PCA(n_components=150,whiten=True,random_state=42)\n",
    "svc=SVC(kernel='rbf')\n",
    "\n",
    "model=make_pipeline(pca,svc)"
   ]
  },
  {
   "cell_type": "code",
   "execution_count": null,
   "id": "99dbe794-d7a1-45c3-a347-05411747314a",
   "metadata": {},
   "outputs": [],
   "source": [
    "from sklearn.model_selection import train_test_split\n",
    "\n",
    "train_data,test_data,train_target,test_target=train_test_split(data,target,test_size=0.1)"
   ]
  },
  {
   "cell_type": "code",
   "execution_count": null,
   "id": "1ba77368-e8b2-4293-a52b-2002647417c5",
   "metadata": {},
   "outputs": [],
   "source": [
    "#Train the model train_data and train_target\n",
    "model.fit(train_data,train_target)"
   ]
  },
  {
   "cell_type": "code",
   "execution_count": null,
   "id": "f94740a3-262e-427b-8ce7-9bae633867d5",
   "metadata": {},
   "outputs": [],
   "source": [
    "from sklearn.metrics import accuracy_score\n",
    "\n",
    "acc=accuracy_score(test_target,predicted_target)\n",
    "print(acc)"
   ]
  },
  {
   "cell_type": "code",
   "execution_count": null,
   "id": "f4857232-6f7a-4e31-8657-022dcaff2de0",
   "metadata": {},
   "outputs": [],
   "source": [
    "from sklearn.metrics import classification_report\n",
    "print(classification_report(test_target,predicted_target,target_names=['Barack Obama', 'Donald Trump', 'George W Bush']))"
   ]
  },
  {
   "cell_type": "code",
   "execution_count": null,
   "id": "cb5000af-8141-4fff-8449-1ac9ee930a83",
   "metadata": {},
   "outputs": [],
   "source": [
    "from sklearn.metrics import confusion_matrix, ConfusionMatrixDisplay\n",
    "\n",
    "matrix=confusion_matrix(test_target,predicted_target)\n",
    "print(matrix)"
   ]
  },
  {
   "cell_type": "code",
   "execution_count": null,
   "id": "a5b78816-f679-428f-afc9-32b778efac83",
   "metadata": {},
   "outputs": [],
   "source": [
    "#pip install --user --upgrade scikit-learn\n",
    "disp = ConfusionMatrixDisplay(confusion_matrix, display_labels=['Barack Obama', 'Donald Trump', 'George W Bush'])\n",
    "disp.plot()"
   ]
  },
  {
   "cell_type": "code",
   "execution_count": 6,
   "id": "c96ca8fb-f4d3-4bbb-8b10-f66f4ad15641",
   "metadata": {},
   "outputs": [
    {
     "ename": "NameError",
     "evalue": "name 'model' is not defined",
     "output_type": "error",
     "traceback": [
      "\u001b[1;31m---------------------------------------------------------------------------\u001b[0m",
      "\u001b[1;31mNameError\u001b[0m                                 Traceback (most recent call last)",
      "Cell \u001b[1;32mIn[6], line 4\u001b[0m\n\u001b[0;32m      1\u001b[0m \u001b[38;5;66;03m#train model save the file\u001b[39;00m\n\u001b[0;32m      2\u001b[0m \u001b[38;5;28;01mimport\u001b[39;00m \u001b[38;5;21;01mjoblib\u001b[39;00m\n\u001b[1;32m----> 4\u001b[0m joblib\u001b[38;5;241m.\u001b[39mdump(model,\u001b[38;5;124m'\u001b[39m\u001b[38;5;124mSVM-Face Recognition.sav\u001b[39m\u001b[38;5;124m'\u001b[39m)\n",
      "\u001b[1;31mNameError\u001b[0m: name 'model' is not defined"
     ]
    }
   ],
   "source": [
    "#train model save the file\n",
    "import joblib\n",
    "\n",
    "joblib.dump(model,'SVM-Face Recognition.sav')"
   ]
  },
  {
   "cell_type": "code",
   "execution_count": null,
   "id": "44184094-fff2-4a88-89db-df6a3b0fe352",
   "metadata": {},
   "outputs": [],
   "source": [
    "# np.max(train_data[1])"
   ]
  }
 ],
 "metadata": {
  "kernelspec": {
   "display_name": "Python [conda env:base] *",
   "language": "python",
   "name": "conda-base-py"
  },
  "language_info": {
   "codemirror_mode": {
    "name": "ipython",
    "version": 3
   },
   "file_extension": ".py",
   "mimetype": "text/x-python",
   "name": "python",
   "nbconvert_exporter": "python",
   "pygments_lexer": "ipython3",
   "version": "3.12.7"
  }
 },
 "nbformat": 4,
 "nbformat_minor": 5
}
